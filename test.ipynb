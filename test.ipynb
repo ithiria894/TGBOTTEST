{
 "cells": [
  {
   "cell_type": "code",
   "execution_count": 2,
   "metadata": {},
   "outputs": [],
   "source": [
    "YOUR_BOT_TOKEN=\"6454485391:AAGXnoyfYfizDPcHgjDKSQruzSFY-xs02R0\""
   ]
  },
  {
   "cell_type": "code",
   "execution_count": 6,
   "metadata": {},
   "outputs": [
    {
     "name": "stdout",
     "output_type": "stream",
     "text": [
      "123\n"
     ]
    },
    {
     "name": "stderr",
     "output_type": "stream",
     "text": [
      "2024-04-20 19:34:57,237 (__init__.py:1212 MainThread) ERROR - TeleBot: \"Threaded polling exception: A request to the Telegram API was unsuccessful. Error code: 409. Description: Conflict: terminated by other getUpdates request; make sure that only one bot instance is running\"\n",
      "2024-04-20 19:34:57,239 (__init__.py:1214 MainThread) ERROR - TeleBot: \"Exception traceback:\n",
      "Traceback (most recent call last):\n",
      "  File \"c:\\Users\\nicol\\AppData\\Local\\Programs\\Python\\Python312\\Lib\\site-packages\\telebot\\__init__.py\", line 1205, in __threaded_polling\n",
      "    polling_thread.raise_exceptions()\n",
      "  File \"c:\\Users\\nicol\\AppData\\Local\\Programs\\Python\\Python312\\Lib\\site-packages\\telebot\\util.py\", line 111, in raise_exceptions\n",
      "    raise self.exception_info\n",
      "  File \"c:\\Users\\nicol\\AppData\\Local\\Programs\\Python\\Python312\\Lib\\site-packages\\telebot\\util.py\", line 93, in run\n",
      "    task(*args, **kwargs)\n",
      "  File \"c:\\Users\\nicol\\AppData\\Local\\Programs\\Python\\Python312\\Lib\\site-packages\\telebot\\__init__.py\", line 675, in __retrieve_updates\n",
      "    updates = self.get_updates(offset=(self.last_update_id + 1),\n",
      "             ^^^^^^^^^^^^^^^^^^^^^^^^^^^^^^^^^^^^^^^^^^^^^^^^^^\n",
      "  File \"c:\\Users\\nicol\\AppData\\Local\\Programs\\Python\\Python312\\Lib\\site-packages\\telebot\\__init__.py\", line 647, in get_updates\n",
      "    json_updates = apihelper.get_updates(\n",
      "                   ^^^^^^^^^^^^^^^^^^^^^^\n",
      "  File \"c:\\Users\\nicol\\AppData\\Local\\Programs\\Python\\Python312\\Lib\\site-packages\\telebot\\apihelper.py\", line 327, in get_updates\n",
      "    return _make_request(token, method_url, params=payload)\n",
      "           ^^^^^^^^^^^^^^^^^^^^^^^^^^^^^^^^^^^^^^^^^^^^^^^^\n",
      "  File \"c:\\Users\\nicol\\AppData\\Local\\Programs\\Python\\Python312\\Lib\\site-packages\\telebot\\apihelper.py\", line 167, in _make_request\n",
      "    json_result = _check_result(method_name, result)\n",
      "                  ^^^^^^^^^^^^^^^^^^^^^^^^^^^^^^^^^^\n",
      "  File \"c:\\Users\\nicol\\AppData\\Local\\Programs\\Python\\Python312\\Lib\\site-packages\\telebot\\apihelper.py\", line 194, in _check_result\n",
      "    raise ApiTelegramException(method_name, result, result_json)\n",
      "telebot.apihelper.ApiTelegramException: A request to the Telegram API was unsuccessful. Error code: 409. Description: Conflict: terminated by other getUpdates request; make sure that only one bot instance is running\n",
      "\"\n"
     ]
    }
   ],
   "source": [
    "import telebot\n",
    "\n",
    "# Replace ‘YOUR_API_TOKEN’ with the API token you received from the BotFather\n",
    "API_TOKEN = YOUR_BOT_TOKEN\n",
    "\n",
    "\n",
    "bot = telebot.TeleBot(API_TOKEN)\n",
    "\n",
    "# Function to get the invite link of the group\n",
    "def get_group_invite_link():\n",
    "    # Replace 'YOUR_GROUP_ID' with the ID of your group\n",
    "    chat_id = '-1002087737560'\n",
    "    try:\n",
    "        invite_link = bot.export_chat_invite_link(chat_id)\n",
    "        return invite_link\n",
    "    except telebot.apihelper.ApiException as e:\n",
    "        print(\"Telegram API Exception:\", e)\n",
    "    except Exception as e:\n",
    "        print(\"Error occurred while getting group invite link:\", e)\n",
    "    return None\n",
    "\n",
    "\n",
    "@bot.message_handler(commands=[\"start\", \"help\"])\n",
    "def send_welcome(message):\n",
    "    bot.reply_to(message, \"歡迎加入蟹家軍! 請輸入 Bitget UID 加入vip群.\")\n",
    "\n",
    "\n",
    "\n",
    "@bot.message_handler(func=lambda message: True)\n",
    "def handle_message(message):\n",
    "    if message.chat.type == 'private':\n",
    "        uid = message.text\n",
    "        print(uid)\n",
    "\n",
    "        if uid == \"123\":\n",
    "\n",
    "            invite_link = get_group_invite_link()\n",
    "            if invite_link:\n",
    "                bot.reply_to(message, f\"Here is the group invite link: {invite_link}\")\n",
    "            else:\n",
    "                bot.reply_to(message, \"Failed to get group invite link. Please try again later.\")\n",
    "        else:\n",
    "\n",
    "            bot.reply_to(message, \"這個 UID 不對，請輸入正確的 UID ， 請使用 /start 命令。 （小提示：UID 是 123）\")\n",
    "\n",
    "\n",
    "@bot.message_handler(func=lambda message: message.text == \"/start\", content_types=['text'])\n",
    "def remind_start(message):\n",
    "    bot.reply_to(message, \"欢迎使用！请使用 /start 命令开始对话。\")\n",
    "\n",
    "bot.polling()"
   ]
  }
 ],
 "metadata": {
  "kernelspec": {
   "display_name": "Python 3",
   "language": "python",
   "name": "python3"
  },
  "language_info": {
   "codemirror_mode": {
    "name": "ipython",
    "version": 3
   },
   "file_extension": ".py",
   "mimetype": "text/x-python",
   "name": "python",
   "nbconvert_exporter": "python",
   "pygments_lexer": "ipython3",
   "version": "3.12.3"
  }
 },
 "nbformat": 4,
 "nbformat_minor": 2
}
